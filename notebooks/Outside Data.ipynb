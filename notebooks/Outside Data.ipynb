{
 "cells": [
  {
   "cell_type": "code",
   "execution_count": 20,
   "id": "better-prior",
   "metadata": {},
   "outputs": [],
   "source": [
    "import sys, os\n",
    "sys.path.insert(0, 'D:\\Senior Year Northeastern University\\DS Capstone\\ImageOutpainting\\model')\n",
    "sys.argv[1] = \"pix2pix\"\n",
    "#print(sys.path)\n",
    "\n",
    "import torch\n",
    "from PIL import ImageColor, Image\n",
    "import torchvision.transforms as transforms\n",
    "import matplotlib.pyplot as plt\n",
    "\n",
    "from train import main\n",
    "from masking.mask_transforms import Datum, ApplyMaskTransform, RandomRightTransform, MaskedAreaTransform\n",
    "from masking.mask_gen import RightStripeMaskGenerator, TopStripeMaskGenerator\n",
    "from config import config"
   ]
  },
  {
   "cell_type": "code",
   "execution_count": 21,
   "id": "unusual-dance",
   "metadata": {},
   "outputs": [
    {
     "name": "stderr",
     "output_type": "stream",
     "text": [
      "usage: ipykernel_launcher.py [-h] [--model MODEL] [--num_epochs NUM_EPOCHS] [--unet_lr UNET_LR] [--disc_lr DISC_LR]\n",
      "                             [--gen_lr GEN_LR]\n",
      "ipykernel_launcher.py: error: unrecognized arguments: pix2pix C:\\Users\\jayma\\AppData\\Roaming\\jupyter\\runtime\\kernel-9001e483-ec98-4842-874d-c768813e4966.json\n"
     ]
    },
    {
     "ename": "SystemExit",
     "evalue": "2",
     "output_type": "error",
     "traceback": [
      "An exception has occurred, use %tb to see the full traceback.\n",
      "\u001b[1;31mSystemExit\u001b[0m\u001b[1;31m:\u001b[0m 2\n"
     ]
    }
   ],
   "source": [
    "gen = main()"
   ]
  },
  {
   "cell_type": "code",
   "execution_count": null,
   "id": "forced-outline",
   "metadata": {},
   "outputs": [],
   "source": [
    "class Utils:\n",
    "    def show(self, img):\n",
    "        toPIL = transforms.ToPILImage()\n",
    "        img = toPIL(img[:, :3, :, :][0])\n",
    "        plt.imshow(img)\n",
    "u = Utils()"
   ]
  },
  {
   "cell_type": "code",
   "execution_count": null,
   "id": "weighted-bible",
   "metadata": {},
   "outputs": [],
   "source": [
    "class RightImageLoader:\n",
    "    def __init__(self, filepaths):\n",
    "        self.filepaths = filepaths\n",
    "    \n",
    "    def __iter__(self):\n",
    "        for fp in self.filepaths:\n",
    "            to_yield = Image.open(fp), None\n",
    "            yield to_yield\n",
    "            \n",
    "class LeftImageLoader:\n",
    "    def __init__(self, filepaths):\n",
    "        self.filepaths = filepaths\n",
    "    \n",
    "    def __iter__(self):\n",
    "        for fp in self.filepaths:\n",
    "            to_yield = Image.open(fp), None\n",
    "            yield to_yield\n",
    "            \n",
    "class TopImageLoader:\n",
    "    def __init__(self, filepaths):\n",
    "        self.filepaths = filepaths\n",
    "\n",
    "    def __iter__(self):\n",
    "        for fp in self.filepaths:\n",
    "            x, y = Image.open(fp), Image.open(fp)\n",
    "            \n",
    "            both = transforms.Compose([\n",
    "                transforms.Resize((config.pic_height, config.pic_width)),\n",
    "                transforms.RandomHorizontalFlip(),\n",
    "                transforms.ToTensor(),\n",
    "                RandomRightTransform(config, right_chance = -0.1)\n",
    "            ])\n",
    "\n",
    "            xonly = ApplyMaskTransform(config, extra_dim=(not config.should_collapse))\n",
    "            yonly = MaskedAreaTransform(config)\n",
    "            p = both(x)\n",
    "            x_, y_ = xonly(p), yonly(p)\n",
    "            print(x_.shape, y_.shape)\n",
    "            \n",
    "            yield x, y"
   ]
  },
  {
   "cell_type": "code",
   "execution_count": null,
   "id": "instrumental-mediterranean",
   "metadata": {},
   "outputs": [],
   "source": [
    "class OutsideRightDataset(torch.utils.data.IterableDataset):\n",
    "    \n",
    "    def __init__(self):\n",
    "        super(OutsideRightDataset).__init__()\n",
    "        self.dataset = self.load_dataset()\n",
    "                \n",
    "    def __iter__(self):\n",
    "        for x, _ in iter(self.dataset):\n",
    "            both = transforms.Compose([\n",
    "                transforms.Resize((config.pic_height, config.pic_width)),\n",
    "                transforms.ToTensor(),\n",
    "                RandomRightTransform(config, right_chance = 1.1)\n",
    "            ])\n",
    "\n",
    "            xonly = ApplyMaskTransform(config, extra_dim=(not config.should_collapse))\n",
    "            yonly = MaskedAreaTransform(config)\n",
    "            p = both(x)\n",
    "            yield xonly(p), yonly(p)\n",
    "            \n",
    "    def __len__(self):\n",
    "        return len(self.train_dataset)\n",
    "    \n",
    "    def get_pic_filepaths(self, directions):\n",
    "        for direction in directions:\n",
    "            for pic in os.listdir(f\"OutsideData/Selected Options/{direction}\"):\n",
    "                yield os.path.join(f\"OutsideData/Selected Options/{direction}\", pic)\n",
    "                \n",
    "    def load_dataset(self):\n",
    "        directories = [\"Right\"]\n",
    "        filepaths = list(self.get_pic_filepaths(directories))\n",
    "        return RightImageLoader(filepaths)"
   ]
  },
  {
   "cell_type": "code",
   "execution_count": null,
   "id": "cordless-distribution",
   "metadata": {},
   "outputs": [],
   "source": [
    "class OutsideLeftDataset(torch.utils.data.IterableDataset):\n",
    "    \n",
    "    def __init__(self):\n",
    "        super(OutsideLeftDataset).__init__()\n",
    "        self.dataset = self.load_dataset()\n",
    "                \n",
    "    def __iter__(self):\n",
    "        for x, _ in iter(self.dataset):\n",
    "            both = transforms.Compose([\n",
    "                transforms.Resize((config.pic_height, config.pic_width)),\n",
    "                transforms.RandomHorizontalFlip(1.0),\n",
    "                transforms.ToTensor(),\n",
    "                RandomRightTransform(config, right_chance = 1.1)\n",
    "            ])\n",
    "\n",
    "            xonly = ApplyMaskTransform(config, extra_dim=(not config.should_collapse))\n",
    "            yonly = MaskedAreaTransform(config)\n",
    "            p = both(x)\n",
    "            yield xonly(p), yonly(p)\n",
    "            \n",
    "    def __len__(self):\n",
    "        return len(self.train_dataset)\n",
    "    \n",
    "    def get_pic_filepaths(self, directions):\n",
    "        for direction in directions:\n",
    "            for pic in os.listdir(f\"OutsideData/Selected Options/{direction}\"):\n",
    "                yield os.path.join(f\"OutsideData/Selected Options/{direction}\", pic)\n",
    "                \n",
    "    def load_dataset(self):\n",
    "        directories = [\"Left\"]\n",
    "        filepaths = list(self.get_pic_filepaths(directories))\n",
    "        return LeftImageLoader(filepaths)"
   ]
  },
  {
   "cell_type": "code",
   "execution_count": null,
   "id": "documentary-water",
   "metadata": {},
   "outputs": [],
   "source": [
    "class OutsideTopDataset(torch.utils.data.IterableDataset):\n",
    "    \n",
    "    def __init__(self):\n",
    "        super(OutsideTopDataset).__init__()\n",
    "        self.dataset = self.load_dataset()\n",
    "                \n",
    "    def __iter__(self):\n",
    "        for x, _ in iter(self.dataset):\n",
    "            both = transforms.Compose([\n",
    "                transforms.Resize((config.pic_height, config.pic_width)),\n",
    "                transforms.RandomHorizontalFlip(),\n",
    "                transforms.ToTensor(),\n",
    "                RandomRightTransform(config, right_chance = -0.1)\n",
    "            ])\n",
    "\n",
    "            xonly = ApplyMaskTransform(config, extra_dim=(not config.should_collapse))\n",
    "            yonly = MaskedAreaTransform(config)\n",
    "            p = both(x)\n",
    "            x_, y_ = xonly(p), yonly(p)\n",
    "            yield x_, y_\n",
    "            \n",
    "    def __len__(self):\n",
    "        return len(self.train_dataset)\n",
    "    \n",
    "    def get_pic_filepaths(self, directions):\n",
    "        for direction in directions:\n",
    "            for pic in os.listdir(f\"OutsideData/Selected Options/{direction}\"):\n",
    "                yield os.path.join(f\"OutsideData/Selected Options/{direction}\", pic)\n",
    "                \n",
    "    def load_dataset(self):\n",
    "        directories = [\"Top\"]\n",
    "        filepaths = list(self.get_pic_filepaths(directories))\n",
    "        return TopImageLoader(filepaths)"
   ]
  },
  {
   "cell_type": "code",
   "execution_count": null,
   "id": "traditional-exhibition",
   "metadata": {},
   "outputs": [],
   "source": [
    "top_loader = OutsideTopDataset().dataset\n",
    "right_loader = OutsideRightDataset().dataset\n",
    "left_loader = OutsideLeftDataset().dataset"
   ]
  },
  {
   "cell_type": "code",
   "execution_count": null,
   "id": "sustainable-composite",
   "metadata": {},
   "outputs": [],
   "source": [
    "both = transforms.Compose([\n",
    "                transforms.Resize((config.pic_height, config.pic_width)),\n",
    "                transforms.RandomHorizontalFlip(),\n",
    "                transforms.ToTensor(),\n",
    "                RandomRightTransform(config, right_chance = -0.1)\n",
    "            ])\n",
    "xonly = ApplyMaskTransform(config, extra_dim=(not config.should_collapse))\n",
    "yonly = MaskedAreaTransform(config)\n",
    "\n",
    "for i, (X, y) in enumerate(top_loader):\n",
    "    p = both(X)\n",
    "    x_, y_ = xonly(p), yonly(p)\n",
    "    x_, y_ = torch.reshape(x_, (1, x_.shape[0], x_.shape[1], x_.shape[2])), torch.reshape(y_, (1, y_.shape[0], y_.shape[1], y_.shape[2]))\n",
    "    x_ = x_.to(torch.device('cuda'))\n",
    "    print(x_.device)\n",
    "    break\n",
    "    \n",
    "u.show(x_)\n",
    "print(x_.shape)"
   ]
  },
  {
   "cell_type": "code",
   "execution_count": null,
   "id": "behind-lambda",
   "metadata": {},
   "outputs": [],
   "source": [
    "u.show(gen(x_))"
   ]
  },
  {
   "cell_type": "code",
   "execution_count": null,
   "id": "convenient-evening",
   "metadata": {},
   "outputs": [],
   "source": []
  }
 ],
 "metadata": {
  "kernelspec": {
   "display_name": "Python 3",
   "language": "python",
   "name": "python3"
  },
  "language_info": {
   "codemirror_mode": {
    "name": "ipython",
    "version": 3
   },
   "file_extension": ".py",
   "mimetype": "text/x-python",
   "name": "python",
   "nbconvert_exporter": "python",
   "pygments_lexer": "ipython3",
   "version": "3.8.5"
  }
 },
 "nbformat": 4,
 "nbformat_minor": 5
}
