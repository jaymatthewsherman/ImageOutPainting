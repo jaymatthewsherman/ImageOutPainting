{
 "cells": [
  {
   "cell_type": "code",
   "execution_count": 1,
   "metadata": {},
   "outputs": [],
   "source": [
    "from random import seed, randrange, random, shuffle\n",
    "import math\n",
    "import matplotlib.pyplot as plt\n",
    "import torch, os\n",
    "import torchvision.transforms as transforms\n",
    "import torchvision.datasets as datasets\n",
    "from torchvision.io import read_image\n",
    "from tqdm import tqdm\n",
    "import numpy as np\n",
    "from abc import ABC, abstractmethod\n",
    "from PIL import ImageColor, Image\n",
    "seed(0)"
   ]
  },
  {
   "cell_type": "code",
   "execution_count": 2,
   "metadata": {},
   "outputs": [],
   "source": [
    "from UNet.config import config\n",
    "from Pix2PixCollapse.discriminator import Discriminator\n",
    "from Pix2PixCollapse.generator import Generator"
   ]
  },
  {
   "cell_type": "code",
   "execution_count": 27,
   "metadata": {},
   "outputs": [
    {
     "data": {
      "text/plain": [
       "56941476"
      ]
     },
     "execution_count": 27,
     "metadata": {},
     "output_type": "execute_result"
    }
   ],
   "source": [
    "from UNet.config import config\n",
    "from Pix2PixCollapse.discriminator import Discriminator\n",
    "from Pix2PixCollapse.generator import Generator"
   ]
  }
 ],
 "metadata": {
  "kernelspec": {
   "display_name": "Python 3",
   "language": "python",
   "name": "python3"
  },
  "language_info": {
   "codemirror_mode": {
    "name": "ipython",
    "version": 3
   },
   "file_extension": ".py",
   "mimetype": "text/x-python",
   "name": "python",
   "nbconvert_exporter": "python",
   "pygments_lexer": "ipython3",
   "version": "3.8.5"
  }
 },
 "nbformat": 4,
 "nbformat_minor": 4
}
